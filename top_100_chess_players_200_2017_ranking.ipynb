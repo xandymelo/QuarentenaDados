{
  "nbformat": 4,
  "nbformat_minor": 0,
  "metadata": {
    "colab": {
      "name": "top 100 chess players 200-2017",
      "provenance": [],
      "collapsed_sections": [],
      "authorship_tag": "ABX9TyOtai5fYtDTc7MWqw7k8YH4",
      "include_colab_link": true
    },
    "kernelspec": {
      "name": "python3",
      "display_name": "Python 3"
    }
  },
  "cells": [
    {
      "cell_type": "markdown",
      "metadata": {
        "id": "view-in-github",
        "colab_type": "text"
      },
      "source": [
        "<a href=\"https://colab.research.google.com/github/xandymelo/QuarentenaDados/blob/master/top_100_chess_players_200_2017_ranking.ipynb\" target=\"_parent\"><img src=\"https://colab.research.google.com/assets/colab-badge.svg\" alt=\"Open In Colab\"/></a>"
      ]
    },
    {
      "cell_type": "code",
      "metadata": {
        "id": "o1_4nh8tFrXz",
        "colab_type": "code",
        "colab": {}
      },
      "source": [
        "import pandas as pd"
      ],
      "execution_count": 0,
      "outputs": []
    },
    {
      "cell_type": "code",
      "metadata": {
        "id": "XC8c_-8BFx4C",
        "colab_type": "code",
        "colab": {
          "base_uri": "https://localhost:8080/",
          "height": 204
        },
        "outputId": "282a2baf-8937-4121-ff85-23eb40f6f815"
      },
      "source": [
        "jogadores = pd.read_csv(\"https://raw.githubusercontent.com/xandymelo/QuarentenaDados/master/fide_historical.csv\")\n",
        "jogadores.head()"
      ],
      "execution_count": 3,
      "outputs": [
        {
          "output_type": "execute_result",
          "data": {
            "text/html": [
              "<div>\n",
              "<style scoped>\n",
              "    .dataframe tbody tr th:only-of-type {\n",
              "        vertical-align: middle;\n",
              "    }\n",
              "\n",
              "    .dataframe tbody tr th {\n",
              "        vertical-align: top;\n",
              "    }\n",
              "\n",
              "    .dataframe thead th {\n",
              "        text-align: right;\n",
              "    }\n",
              "</style>\n",
              "<table border=\"1\" class=\"dataframe\">\n",
              "  <thead>\n",
              "    <tr style=\"text-align: right;\">\n",
              "      <th></th>\n",
              "      <th>ranking_date</th>\n",
              "      <th>rank</th>\n",
              "      <th>name</th>\n",
              "      <th>title</th>\n",
              "      <th>country</th>\n",
              "      <th>rating</th>\n",
              "      <th>games</th>\n",
              "      <th>birth_year</th>\n",
              "    </tr>\n",
              "  </thead>\n",
              "  <tbody>\n",
              "    <tr>\n",
              "      <th>0</th>\n",
              "      <td>27-07-00</td>\n",
              "      <td>1</td>\n",
              "      <td>Kasparov, Garry</td>\n",
              "      <td>g</td>\n",
              "      <td>RUS</td>\n",
              "      <td>2849</td>\n",
              "      <td>35</td>\n",
              "      <td>1963</td>\n",
              "    </tr>\n",
              "    <tr>\n",
              "      <th>1</th>\n",
              "      <td>27-07-00</td>\n",
              "      <td>2</td>\n",
              "      <td>Kramnik, Vladimir</td>\n",
              "      <td>g</td>\n",
              "      <td>RUS</td>\n",
              "      <td>2770</td>\n",
              "      <td>23</td>\n",
              "      <td>1975</td>\n",
              "    </tr>\n",
              "    <tr>\n",
              "      <th>2</th>\n",
              "      <td>27-07-00</td>\n",
              "      <td>3</td>\n",
              "      <td>Anand, Viswanathan</td>\n",
              "      <td>g</td>\n",
              "      <td>IND</td>\n",
              "      <td>2762</td>\n",
              "      <td>23</td>\n",
              "      <td>1969</td>\n",
              "    </tr>\n",
              "    <tr>\n",
              "      <th>3</th>\n",
              "      <td>27-07-00</td>\n",
              "      <td>4</td>\n",
              "      <td>Morozevich, Alexander</td>\n",
              "      <td>g</td>\n",
              "      <td>RUS</td>\n",
              "      <td>2756</td>\n",
              "      <td>28</td>\n",
              "      <td>1977</td>\n",
              "    </tr>\n",
              "    <tr>\n",
              "      <th>4</th>\n",
              "      <td>27-07-00</td>\n",
              "      <td>5</td>\n",
              "      <td>Adams, Michael</td>\n",
              "      <td>g</td>\n",
              "      <td>ENG</td>\n",
              "      <td>2755</td>\n",
              "      <td>38</td>\n",
              "      <td>1971</td>\n",
              "    </tr>\n",
              "  </tbody>\n",
              "</table>\n",
              "</div>"
            ],
            "text/plain": [
              "  ranking_date  rank                   name  ... rating games  birth_year\n",
              "0     27-07-00     1        Kasparov, Garry  ...   2849    35        1963\n",
              "1     27-07-00     2      Kramnik, Vladimir  ...   2770    23        1975\n",
              "2     27-07-00     3     Anand, Viswanathan  ...   2762    23        1969\n",
              "3     27-07-00     4  Morozevich, Alexander  ...   2756    28        1977\n",
              "4     27-07-00     5         Adams, Michael  ...   2755    38        1971\n",
              "\n",
              "[5 rows x 8 columns]"
            ]
          },
          "metadata": {
            "tags": []
          },
          "execution_count": 3
        }
      ]
    },
    {
      "cell_type": "code",
      "metadata": {
        "id": "sUbDr7zNGXIc",
        "colab_type": "code",
        "colab": {
          "base_uri": "https://localhost:8080/",
          "height": 119
        },
        "outputId": "eba5f22f-0862-4314-8ecf-1e912319b762"
      },
      "source": [
        "paises = jogadores['country'].unique()\n",
        "print(paises)"
      ],
      "execution_count": 27,
      "outputs": [
        {
          "output_type": "stream",
          "text": [
            "['RUS' 'IND' 'ENG' 'ESP' 'HUN' 'UKR' 'BUL' 'POL' 'UZB' 'ISR' 'GEO' 'CHN'\n",
            " 'BEL' 'CZE' 'ARM' 'BIH' 'FRA' 'SLO' 'NED' 'USA' 'BLR' 'MDA' 'SWE' 'GER'\n",
            " 'BRA' 'EST' 'SUI' 'DEN' 'CRO' 'SVK' 'PER' 'KAZ' 'LTU' 'ROM' 'MKD' 'IRL'\n",
            " 'INA' 'CUB' 'ISL' 'GRE' 'AZE' 'ROU' 'MAR' 'LAT' 'CYP' 'IRI' 'ARG' 'TUR'\n",
            " 'NOR' 'PHI' 'SCG' 'CAN' 'TJK' 'SIN' 'SRB' 'FIN' 'ITA' 'VIE' 'AUT' 'VEN'\n",
            " 'EGY' 'PAR' 'SGP' 'UAE']\n"
          ],
          "name": "stdout"
        }
      ]
    },
    {
      "cell_type": "code",
      "metadata": {
        "id": "gPkEwngLG1ZV",
        "colab_type": "code",
        "colab": {
          "base_uri": "https://localhost:8080/",
          "height": 34
        },
        "outputId": "27d06a5c-a09b-47f4-f032-2308d3950c7a"
      },
      "source": [
        "titulos = jogadores['title'].unique()\n",
        "print(titulos)"
      ],
      "execution_count": 28,
      "outputs": [
        {
          "output_type": "stream",
          "text": [
            "['g' 'wg' 'm' 'f']\n"
          ],
          "name": "stdout"
        }
      ]
    },
    {
      "cell_type": "code",
      "metadata": {
        "id": "6ayNIRnqHQLc",
        "colab_type": "code",
        "colab": {
          "base_uri": "https://localhost:8080/",
          "height": 34
        },
        "outputId": "35b539ab-875d-44cc-885e-c5b2eb3d78a7"
      },
      "source": [
        "judith_polgar = jogadores.query(\"name == 'Polgar, Judit (GM)'\")\n",
        "maior_rating = judith_polgar['rating'].max()"
      ],
      "execution_count": 58,
      "outputs": [
        {
          "output_type": "execute_result",
          "data": {
            "text/plain": [
              "2728"
            ]
          },
          "metadata": {
            "tags": []
          },
          "execution_count": 58
        }
      ]
    },
    {
      "cell_type": "code",
      "metadata": {
        "id": "4pb6JOxbKLib",
        "colab_type": "code",
        "colab": {
          "base_uri": "https://localhost:8080/",
          "height": 362
        },
        "outputId": "78bd2c94-f396-4f17-a3b5-2a2320a3f189"
      },
      "source": [
        "import seaborn as sns\n",
        "import matplotlib.pyplot as plt\n",
        "plt.figure(figsize=(30,8))\n",
        "grafico_jd = sns.barplot(x=judith_polgar.ranking_date, y = judith_polgar.rating,palette=sns.color_palette(\"Blues_d\", len(judith_polgar) + 3))\n",
        "sns.set_style('whitegrid')\n",
        "plt.show()"
      ],
      "execution_count": 51,
      "outputs": [
        {
          "output_type": "display_data",
          "data": {
            "image/png": "[encoded data removed]",
            "text/plain": [
              "<Figure size 2160x576 with 1 Axes>"
            ]
          },
          "metadata": {
            "tags": []
          }
        }
      ]
    },
    {
      "cell_type": "code",
      "metadata": {
        "id": "KIHI6PfsMjv_",
        "colab_type": "code",
        "colab": {
          "base_uri": "https://localhost:8080/",
          "height": 102
        },
        "outputId": "c617b2b0-e220-4dae-987b-13a34e085286"
      },
      "source": [
        "jogadores['title'].value_counts()"
      ],
      "execution_count": 53,
      "outputs": [
        {
          "output_type": "execute_result",
          "data": {
            "text/plain": [
              "g     11485\n",
              "wg       14\n",
              "f         9\n",
              "m         3\n",
              "Name: title, dtype: int64"
            ]
          },
          "metadata": {
            "tags": []
          },
          "execution_count": 53
        }
      ]
    },
    {
      "cell_type": "code",
      "metadata": {
        "id": "bab5v-C1PgZW",
        "colab_type": "code",
        "colab": {
          "base_uri": "https://localhost:8080/",
          "height": 483
        },
        "outputId": "54d8bf61-8356-4823-bab9-e19a0796bcc4"
      },
      "source": [
        "jogadores.query(\"title == 'wg'\").sort_values('name')"
      ],
      "execution_count": 55,
      "outputs": [
        {
          "output_type": "execute_result",
          "data": {
            "text/html": [
              "<div>\n",
              "<style scoped>\n",
              "    .dataframe tbody tr th:only-of-type {\n",
              "        vertical-align: middle;\n",
              "    }\n",
              "\n",
              "    .dataframe tbody tr th {\n",
              "        vertical-align: top;\n",
              "    }\n",
              "\n",
              "    .dataframe thead th {\n",
              "        text-align: right;\n",
              "    }\n",
              "</style>\n",
              "<table border=\"1\" class=\"dataframe\">\n",
              "  <thead>\n",
              "    <tr style=\"text-align: right;\">\n",
              "      <th></th>\n",
              "      <th>ranking_date</th>\n",
              "      <th>rank</th>\n",
              "      <th>name</th>\n",
              "      <th>title</th>\n",
              "      <th>country</th>\n",
              "      <th>rating</th>\n",
              "      <th>games</th>\n",
              "      <th>birth_year</th>\n",
              "    </tr>\n",
              "  </thead>\n",
              "  <tbody>\n",
              "    <tr>\n",
              "      <th>129</th>\n",
              "      <td>27-10-00</td>\n",
              "      <td>30</td>\n",
              "      <td>Polgar, Judit (GM)</td>\n",
              "      <td>wg</td>\n",
              "      <td>HUN</td>\n",
              "      <td>2656</td>\n",
              "      <td>0</td>\n",
              "      <td>1976</td>\n",
              "    </tr>\n",
              "    <tr>\n",
              "      <th>222</th>\n",
              "      <td>27-01-01</td>\n",
              "      <td>23</td>\n",
              "      <td>Polgar, Judit (GM)</td>\n",
              "      <td>wg</td>\n",
              "      <td>HUN</td>\n",
              "      <td>2676</td>\n",
              "      <td>34</td>\n",
              "      <td>1976</td>\n",
              "    </tr>\n",
              "    <tr>\n",
              "      <th>318</th>\n",
              "      <td>27-04-01</td>\n",
              "      <td>19</td>\n",
              "      <td>Polgar, Judit (GM)</td>\n",
              "      <td>wg</td>\n",
              "      <td>HUN</td>\n",
              "      <td>2679</td>\n",
              "      <td>10</td>\n",
              "      <td>1976</td>\n",
              "    </tr>\n",
              "    <tr>\n",
              "      <th>419</th>\n",
              "      <td>27-07-01</td>\n",
              "      <td>20</td>\n",
              "      <td>Polgar, Judit (GM)</td>\n",
              "      <td>wg</td>\n",
              "      <td>HUN</td>\n",
              "      <td>2686</td>\n",
              "      <td>13</td>\n",
              "      <td>1976</td>\n",
              "    </tr>\n",
              "    <tr>\n",
              "      <th>518</th>\n",
              "      <td>27-10-01</td>\n",
              "      <td>19</td>\n",
              "      <td>Polgar, Judit (GM)</td>\n",
              "      <td>wg</td>\n",
              "      <td>HUN</td>\n",
              "      <td>2686</td>\n",
              "      <td>0</td>\n",
              "      <td>1976</td>\n",
              "    </tr>\n",
              "    <tr>\n",
              "      <th>621</th>\n",
              "      <td>27-01-02</td>\n",
              "      <td>22</td>\n",
              "      <td>Polgar, Judit (GM)</td>\n",
              "      <td>wg</td>\n",
              "      <td>HUN</td>\n",
              "      <td>2677</td>\n",
              "      <td>19</td>\n",
              "      <td>1976</td>\n",
              "    </tr>\n",
              "    <tr>\n",
              "      <th>723</th>\n",
              "      <td>27-04-02</td>\n",
              "      <td>20</td>\n",
              "      <td>Polgar, Judit (GM)</td>\n",
              "      <td>wg</td>\n",
              "      <td>HUN</td>\n",
              "      <td>2677</td>\n",
              "      <td>0</td>\n",
              "      <td>1976</td>\n",
              "    </tr>\n",
              "    <tr>\n",
              "      <th>827</th>\n",
              "      <td>27-07-02</td>\n",
              "      <td>19</td>\n",
              "      <td>Polgar, Judit (GM)</td>\n",
              "      <td>wg</td>\n",
              "      <td>HUN</td>\n",
              "      <td>2681</td>\n",
              "      <td>1</td>\n",
              "      <td>1976</td>\n",
              "    </tr>\n",
              "    <tr>\n",
              "      <th>927</th>\n",
              "      <td>27-10-02</td>\n",
              "      <td>18</td>\n",
              "      <td>Polgar, Judit (GM)</td>\n",
              "      <td>wg</td>\n",
              "      <td>HUN</td>\n",
              "      <td>2685</td>\n",
              "      <td>2</td>\n",
              "      <td>1976</td>\n",
              "    </tr>\n",
              "    <tr>\n",
              "      <th>1024</th>\n",
              "      <td>27-01-03</td>\n",
              "      <td>13</td>\n",
              "      <td>Polgar, Judit (GM)</td>\n",
              "      <td>wg</td>\n",
              "      <td>HUN</td>\n",
              "      <td>2700</td>\n",
              "      <td>25</td>\n",
              "      <td>1976</td>\n",
              "    </tr>\n",
              "    <tr>\n",
              "      <th>1121</th>\n",
              "      <td>27-04-03</td>\n",
              "      <td>10</td>\n",
              "      <td>Polgar, Judit (GM)</td>\n",
              "      <td>wg</td>\n",
              "      <td>HUN</td>\n",
              "      <td>2715</td>\n",
              "      <td>13</td>\n",
              "      <td>1976</td>\n",
              "    </tr>\n",
              "    <tr>\n",
              "      <th>1223</th>\n",
              "      <td>27-07-03</td>\n",
              "      <td>11</td>\n",
              "      <td>Polgar, Judit (GM)</td>\n",
              "      <td>wg</td>\n",
              "      <td>HUN</td>\n",
              "      <td>2718</td>\n",
              "      <td>9</td>\n",
              "      <td>1976</td>\n",
              "    </tr>\n",
              "    <tr>\n",
              "      <th>1324</th>\n",
              "      <td>27-10-03</td>\n",
              "      <td>11</td>\n",
              "      <td>Polgar, Judit (GM)</td>\n",
              "      <td>wg</td>\n",
              "      <td>HUN</td>\n",
              "      <td>2722</td>\n",
              "      <td>9</td>\n",
              "      <td>1976</td>\n",
              "    </tr>\n",
              "    <tr>\n",
              "      <th>1421</th>\n",
              "      <td>27-01-04</td>\n",
              "      <td>8</td>\n",
              "      <td>Polgar, Judit (GM)</td>\n",
              "      <td>wg</td>\n",
              "      <td>HUN</td>\n",
              "      <td>2728</td>\n",
              "      <td>6</td>\n",
              "      <td>1976</td>\n",
              "    </tr>\n",
              "  </tbody>\n",
              "</table>\n",
              "</div>"
            ],
            "text/plain": [
              "     ranking_date  rank                name  ... rating games  birth_year\n",
              "129      27-10-00    30  Polgar, Judit (GM)  ...   2656     0        1976\n",
              "222      27-01-01    23  Polgar, Judit (GM)  ...   2676    34        1976\n",
              "318      27-04-01    19  Polgar, Judit (GM)  ...   2679    10        1976\n",
              "419      27-07-01    20  Polgar, Judit (GM)  ...   2686    13        1976\n",
              "518      27-10-01    19  Polgar, Judit (GM)  ...   2686     0        1976\n",
              "621      27-01-02    22  Polgar, Judit (GM)  ...   2677    19        1976\n",
              "723      27-04-02    20  Polgar, Judit (GM)  ...   2677     0        1976\n",
              "827      27-07-02    19  Polgar, Judit (GM)  ...   2681     1        1976\n",
              "927      27-10-02    18  Polgar, Judit (GM)  ...   2685     2        1976\n",
              "1024     27-01-03    13  Polgar, Judit (GM)  ...   2700    25        1976\n",
              "1121     27-04-03    10  Polgar, Judit (GM)  ...   2715    13        1976\n",
              "1223     27-07-03    11  Polgar, Judit (GM)  ...   2718     9        1976\n",
              "1324     27-10-03    11  Polgar, Judit (GM)  ...   2722     9        1976\n",
              "1421     27-01-04     8  Polgar, Judit (GM)  ...   2728     6        1976\n",
              "\n",
              "[14 rows x 8 columns]"
            ]
          },
          "metadata": {
            "tags": []
          },
          "execution_count": 55
        }
      ]
    },
    {
      "cell_type": "code",
      "metadata": {
        "id": "J4tkH-6GSTGD",
        "colab_type": "code",
        "colab": {}
      },
      "source": [
        "def achar_maior_rating(nome):\n",
        "  judith_polgar = jogadores.query(f'name == \"{nome}\"')\n",
        "  return judith_polgar['rating'].max()"
      ],
      "execution_count": 0,
      "outputs": []
    },
    {
      "cell_type": "code",
      "metadata": {
        "id": "jBsvy5-eSWM0",
        "colab_type": "code",
        "colab": {
          "base_uri": "https://localhost:8080/",
          "height": 34
        },
        "outputId": "47485c96-097a-4a38-979c-d1a26950d858"
      },
      "source": [
        "print(achar_maior_rating('Polgar, Judit (GM)'))"
      ],
      "execution_count": 66,
      "outputs": [
        {
          "output_type": "stream",
          "text": [
            "2728\n"
          ],
          "name": "stdout"
        }
      ]
    },
    {
      "cell_type": "code",
      "metadata": {
        "id": "HMrzNOCjPqQP",
        "colab_type": "code",
        "colab": {
          "base_uri": "https://localhost:8080/",
          "height": 54
        },
        "outputId": "95df5f94-1832-4306-d923-0a6e4cabc6b2"
      },
      "source": [
        "nomes = jogadores['name'].unique()\n",
        "maiores_ratings_de_cada_jogador = []\n",
        "\n",
        "for n in nomes:\n",
        "  maior_rating = achar_maior_rating(n)\n",
        "  maiores_ratings_de_cada_jogador.append(maior_rating)\n",
        "print(maiores_ratings_de_cada_jogador)\n",
        "\n",
        "colunas = {'Nomes': nomes, 'Maiores ratings de cada jogador': maiores_ratings_de_cada_jogador}\n"
      ],
      "execution_count": 74,
      "outputs": [
        {
          "output_type": "stream",
          "text": [
            "[2849, 2817, 2817, 2788, 2761, 2755, 2763, 2787, 2816, 2702, 2739, 2699, 2715, 2769, 2777, 2712, 2702, 2705, 2702, 2684, 2706, 2668, 2726, 2694, 2702, 2751, 2695, 2713, 2657, 2676, 2672, 2728, 2679, 2659, 2687, 2658, 2646, 2644, 2714, 2643, 2649, 2734, 2641, 2640, 2640, 2639, 2667, 2688, 2670, 2644, 2764, 2633, 2677, 2643, 2701, 2656, 2705, 2668, 2646, 2670, 2623, 2658, 2643, 2671, 2640, 2635, 2749, 2619, 2640, 2611, 2706, 2624, 2645, 2678, 2703, 2699, 2618, 2608, 2608, 2608, 2810, 2636, 2732, 2613, 2699, 2603, 2637, 2602, 2617, 2656, 2612, 2628, 2640, 2706, 2596, 2598, 2655, 2614, 2634, 2594, 2659, 2602, 2639, 2679, 2720, 2633, 2849, 2635, 2625, 2682, 2604, 2601, 2598, 2596, 2707, 2604, 2661, 2653, 2605, 2710, 2600, 2630, 2724, 2669, 2623, 2608, 2615, 2720, 2632, 2604, 2646, 2602, 2674, 2601, 2600, 2605, 2677, 2611, 2598, 2700, 2603, 2601, 2677, 2617, 2679, 2604, 2601, 2605, 2658, 2793, 2596, 2648, 2640, 2660, 2659, 2729, 2603, 2609, 2653, 2677, 2616, 2601, 2624, 2623, 2615, 2725, 2830, 2726, 2670, 2645, 2646, 2656, 2610, 2630, 2751, 2618, 2628, 2706, 2702, 2734, 2633, 2615, 2643, 2732, 2735, 2800, 2615, 2725, 2696, 2765, 2653, 2652, 2690, 2816, 2770, 2724, 2737, 2633, 2763, 2788, 2713, 2708, 2620, 2760, 2720, 2624, 2657, 2663, 2660, 2655, 2632, 2637, 2882, 2761, 2618, 2618, 2756, 2625, 2720, 2750, 2646, 2641, 2752, 2633, 2758, 2707, 2695, 2625, 2674, 2639, 2680, 2655, 2659, 2674, 2650, 2819, 2665, 2632, 2629, 2767, 2630, 2768, 2667, 2705, 2656, 2676, 2655, 2844, 2747, 2633, 2710, 2647, 2689, 2680, 2663, 2758, 2671, 2822, 2669, 2743, 2696, 2653, 2669, 2714, 2723, 2704, 2726, 2717, 2798, 2662, 2640, 2656, 2676, 2713, 2668, 2705, 2684, 2667, 2711, 2750, 2703, 2783, 2662, 2673, 2717, 2660, 2672, 2671, 2667, 2684, 2661, 2677, 2677, 2667, 2700, 2682, 2714, 2671, 2702, 2652, 2678, 2659, 2678, 2752, 2664, 2662, 2694, 2665, 2661, 2661, 2672, 2659, 2680, 2703, 2712, 2651, 2681, 2673, 2673, 2655, 2686, 2691, 2737, 2702, 2679, 2680, 2654, 2669, 2666, 2658, 2689, 2697, 2658, 2685, 2692, 2676, 2662, 2659, 2656, 2662, 2674, 2656, 2660, 2679, 2664, 2665]\n"
          ],
          "name": "stdout"
        }
      ]
    },
    {
      "cell_type": "code",
      "metadata": {
        "id": "QhDIgS88RNSJ",
        "colab_type": "code",
        "colab": {
          "base_uri": "https://localhost:8080/",
          "height": 419
        },
        "outputId": "e5f3e5fb-ac7a-4c3d-ece1-ea0fd0e33726"
      },
      "source": [
        "ranking_considerando_os_maiores_ratings_de_cada_jogador = pd.DataFrame(data=colunas)\n",
        "ranking_considerando_os_maiores_ratings_de_cada_jogador = ranking_considerando_os_maiores_ratings_de_cada_jogador.sort_values('Maiores ratings de cada jogador', ascending = False)\n",
        "ranking_considerando_os_maiores_ratings_de_cada_jogador = ranking_considerando_os_maiores_ratings_de_cada_jogador.drop(106)\n",
        "ranking_considerando_os_maiores_ratings_de_cada_jogador\n"
      ],
      "execution_count": 84,
      "outputs": [
        {
          "output_type": "execute_result",
          "data": {
            "text/html": [
              "<div>\n",
              "<style scoped>\n",
              "    .dataframe tbody tr th:only-of-type {\n",
              "        vertical-align: middle;\n",
              "    }\n",
              "\n",
              "    .dataframe tbody tr th {\n",
              "        vertical-align: top;\n",
              "    }\n",
              "\n",
              "    .dataframe thead th {\n",
              "        text-align: right;\n",
              "    }\n",
              "</style>\n",
              "<table border=\"1\" class=\"dataframe\">\n",
              "  <thead>\n",
              "    <tr style=\"text-align: right;\">\n",
              "      <th></th>\n",
              "      <th>Nomes</th>\n",
              "      <th>Maiores ratings de cada jogador</th>\n",
              "    </tr>\n",
              "  </thead>\n",
              "  <tbody>\n",
              "    <tr>\n",
              "      <th>212</th>\n",
              "      <td>Carlsen, Magnus</td>\n",
              "      <td>2882</td>\n",
              "    </tr>\n",
              "    <tr>\n",
              "      <th>0</th>\n",
              "      <td>Kasparov, Garry</td>\n",
              "      <td>2849</td>\n",
              "    </tr>\n",
              "    <tr>\n",
              "      <th>247</th>\n",
              "      <td>Caruana, Fabiano</td>\n",
              "      <td>2844</td>\n",
              "    </tr>\n",
              "    <tr>\n",
              "      <th>166</th>\n",
              "      <td>Aronian, Levon</td>\n",
              "      <td>2830</td>\n",
              "    </tr>\n",
              "    <tr>\n",
              "      <th>257</th>\n",
              "      <td>So, Wesley</td>\n",
              "      <td>2822</td>\n",
              "    </tr>\n",
              "    <tr>\n",
              "      <th>...</th>\n",
              "      <td>...</td>\n",
              "      <td>...</td>\n",
              "    </tr>\n",
              "    <tr>\n",
              "      <th>112</th>\n",
              "      <td>Baburin, Alexander</td>\n",
              "      <td>2598</td>\n",
              "    </tr>\n",
              "    <tr>\n",
              "      <th>150</th>\n",
              "      <td>Portisch, Lajos</td>\n",
              "      <td>2596</td>\n",
              "    </tr>\n",
              "    <tr>\n",
              "      <th>113</th>\n",
              "      <td>Shariyazdanov, Andrey</td>\n",
              "      <td>2596</td>\n",
              "    </tr>\n",
              "    <tr>\n",
              "      <th>94</th>\n",
              "      <td>Yermolinsky, Alex</td>\n",
              "      <td>2596</td>\n",
              "    </tr>\n",
              "    <tr>\n",
              "      <th>99</th>\n",
              "      <td>Fominyh, Alexander</td>\n",
              "      <td>2594</td>\n",
              "    </tr>\n",
              "  </tbody>\n",
              "</table>\n",
              "<p>345 rows × 2 columns</p>\n",
              "</div>"
            ],
            "text/plain": [
              "                     Nomes  Maiores ratings de cada jogador\n",
              "212        Carlsen, Magnus                             2882\n",
              "0          Kasparov, Garry                             2849\n",
              "247       Caruana, Fabiano                             2844\n",
              "166         Aronian, Levon                             2830\n",
              "257             So, Wesley                             2822\n",
              "..                     ...                              ...\n",
              "112     Baburin, Alexander                             2598\n",
              "150        Portisch, Lajos                             2596\n",
              "113  Shariyazdanov, Andrey                             2596\n",
              "94       Yermolinsky, Alex                             2596\n",
              "99      Fominyh, Alexander                             2594\n",
              "\n",
              "[345 rows x 2 columns]"
            ]
          },
          "metadata": {
            "tags": []
          },
          "execution_count": 84
        }
      ]
    },
    {
      "cell_type": "code",
      "metadata": {
        "id": "cRP3zrchTdO8",
        "colab_type": "code",
        "colab": {}
      },
      "source": [
        ""
      ],
      "execution_count": 0,
      "outputs": []
    }
  ]
}